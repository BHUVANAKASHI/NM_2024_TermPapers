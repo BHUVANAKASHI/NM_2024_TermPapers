{
 "cells": [
  {
   "cell_type": "code",
   "execution_count": 1,
   "id": "020b2d99-1df3-46e2-bb07-ccfa320451fb",
   "metadata": {},
   "outputs": [],
   "source": [
    "import numpy as np\n",
    "import matplotlib.pyplot as plt\n",
    "import scipy.optimize as opt\n",
    "import scipy.integrate as integ\n",
    "import os\n",
    "from multiprocessing import Pool\n",
    "import pandas as pd\n",
    "import csv\n",
    "import time"
   ]
  },
  {
   "cell_type": "code",
   "execution_count": 2,
   "id": "623efa2f-9310-42bb-9806-78bf04ae5742",
   "metadata": {},
   "outputs": [],
   "source": [
    "a=8\n",
    "L=a*a\n",
    "xL,yL=(a,a)\n",
    "steps=1000*L\n",
    "config=np.ones(L)\n",
    "N=10000#ensemblesize\n",
    "J=[]\n",
    "TT=100\n",
    "T=np.linspace(1e-8,10,TT)\n",
    "B=1/T\n"
   ]
  },
  {
   "cell_type": "code",
   "execution_count": 3,
   "id": "9d9f5769-f3a2-4597-a319-721b1bac29f1",
   "metadata": {},
   "outputs": [],
   "source": [
    "def Energy(_config):\n",
    "    t_i=np.reshape(_config,(xL,yL))\n",
    "    t_ip1=np.roll(t_i,-1,axis=1)\n",
    "    t_im1=np.roll(t_i,1,axis=1)\n",
    "    t_jp1=np.roll(t_i,-1,axis=0)\n",
    "    t_jm1=np.roll(t_i,1,axis=0)\n",
    "    \n",
    "    E_sites=-t_i*(J[0]*t_ip1+J[1]*t_im1+J[2]*t_jp1+J[3]*t_jm1)\n",
    "    E=np.sum(E_sites)\n",
    "    return np.abs(E)"
   ]
  },
  {
   "cell_type": "code",
   "execution_count": 4,
   "id": "8c30bcc8-9d5b-4d30-9a75-3e21741e0d7d",
   "metadata": {},
   "outputs": [],
   "source": [
    "def S_z(_config):\n",
    "    return np.abs(np.sum(_config))"
   ]
  },
  {
   "cell_type": "code",
   "execution_count": 5,
   "id": "b8165b44-b907-4114-9baa-4f27ad8b8b43",
   "metadata": {},
   "outputs": [],
   "source": [
    "def metropolis(B, _config):\n",
    "    t=np.reshape(_config,(xL,yL))\n",
    "    ind=np.random.randint(0,L)\n",
    "    x=ind%xL\n",
    "    y=ind//xL\n",
    "    si=_config[ind]\n",
    "    sf=_config[ind]*-1\n",
    "    dE=2*si*(J[0]*t[(x+1)%xL,y]+J[1]*t[(x-1),y]+J[2]*t[x,(y+1)%yL]+J[3]*t[x,y-1])\n",
    "    if(dE<0):\n",
    "        _config[ind]=sf\n",
    "    elif(np.random.uniform(0,1)<np.exp(-B*dE)):\n",
    "        _config[ind]=sf\n",
    "    else:\n",
    "        _config[ind]=si\n",
    "    return _config"
   ]
  },
  {
   "cell_type": "code",
   "execution_count": 6,
   "id": "b1f71bbf-a74e-493d-9452-1a1ef90f5511",
   "metadata": {},
   "outputs": [],
   "source": [
    "def calculation(_config):\n",
    "    m=S_z(_config)\n",
    "    e=Energy(_config)\n",
    "    return [m,m**2,e,e**2]"
   ]
  },
  {
   "cell_type": "code",
   "execution_count": 7,
   "id": "6ec94c0c-95f7-4f12-b476-c7120b639e1e",
   "metadata": {},
   "outputs": [
    {
     "data": {
      "text/plain": [
       "array([[1, 3, 2],\n",
       "       [0, 0, 1],\n",
       "       [4, 6, 5]])"
      ]
     },
     "execution_count": 7,
     "metadata": {},
     "output_type": "execute_result"
    }
   ],
   "source": [
    "a=[[4,6,5],[1,3,2],[0,0,1]]\n",
    "np.roll(a,-1,0)"
   ]
  },
  {
   "cell_type": "code",
   "execution_count": 8,
   "id": "5cb0dda4-3ada-4e4a-869e-9ec1f93a5bbd",
   "metadata": {},
   "outputs": [],
   "source": [
    "def B_depend(B):\n",
    "    configs=np.zeros((steps,L))\n",
    "    t=config\n",
    "    m=np.zeros(steps)\n",
    "    for i in range(steps):\n",
    "        t = metropolis(B, t)\n",
    "        configs[i,:]=t\n",
    "    arr= np.zeros((N,4))\n",
    "    c=0\n",
    "    for i in configs[-N:,:]:\n",
    "        arr[c,:]=calculation(i)\n",
    "        c+=1\n",
    "    return np.mean(arr,axis=0)"
   ]
  },
  {
   "cell_type": "code",
   "execution_count": 9,
   "id": "4aa122fa-b52d-41d6-950d-f9f38ada08d1",
   "metadata": {},
   "outputs": [],
   "source": [
    "def work():\n",
    "    #with Pool(os.cpu_count()) as pool:\n",
    "    with Pool(8) as pool:\n",
    "        results = pool.map(B_depend, B)\n",
    "    pool.close()\n",
    "    pool.join()\n",
    "    return np.array(results)"
   ]
  },
  {
   "cell_type": "code",
   "execution_count": 10,
   "id": "2604b6be-19c3-4b06-8a57-df19ffccc277",
   "metadata": {},
   "outputs": [],
   "source": [
    "def realization(size,lamb):\n",
    "    f='data/lamb%s'%str(lamb)\n",
    "    filename = f+'size%s.csv'%str(size)\n",
    "    \n",
    "    global config\n",
    "    global a, L,xL,yL\n",
    "    \n",
    "    a=size\n",
    "    L=a*a\n",
    "    xL,yL=(a,a)\n",
    "    config=np.ones(L)\n",
    "    steps=1000*L\n",
    "    #plt.figure(figsize=(15,15))\n",
    "    # f1=open('lamb%s/Magnetization.txt'%str(lamb),'a')\n",
    "    # f2=open('lamb%s/Energy.txt'%str(lamb),'a')\n",
    "    # f3=open('lamb%s/SpecificHeat.txt'%str(lamb),'a')\n",
    "    # f4=open('lamb%s/Suseptibility.txt'%str(lamb),'a')\n",
    "    \n",
    "    global J\n",
    "    \n",
    "    J=[1-lamb,1+lamb,1-lamb,1+lamb]\n",
    "    t=work()\n",
    "    m=t[:,0]/L\n",
    "    e=t[:,2]/L\n",
    "    c=(t[:,3]-t[:,2]**2)/T**2\n",
    "    x=(t[:,1]-t[:,0]**2)/T\n",
    "\n",
    "    # print(m)\n",
    "    # print(e)\n",
    "    # print(c)\n",
    "    # print(x)\n",
    "    with open(filename, 'a', newline=\"\") as file:\n",
    "        csvwriter = csv.writer(file)\n",
    "        data=np.transpose([m,e,c,x])\n",
    "        csvwriter.writerows(data)\n",
    "    #os.system('spd-say \"Input needed\"')\n",
    "    #a= input()\n",
    "    #if(int(a)==1):\n",
    "    \n",
    "    # f1.write(str(m)+'exit\\n')\n",
    "    # f2.write(str(e)+'exit\\n')\n",
    "    # f3.write(str(c)+'exit\\n')\n",
    "    # f4.write(str(x)+'exit\\n')\n",
    "    # #else:\n",
    "    # #    realization(lamb)\n",
    "    # f1.close()\n",
    "    # f2.close()\n",
    "    # f3.close()\n",
    "    # f4.close()\n",
    "    "
   ]
  },
  {
   "cell_type": "code",
   "execution_count": 11,
   "id": "0221f3b1-6281-4974-b930-a297b9270008",
   "metadata": {},
   "outputs": [],
   "source": [
    "# R=8\n",
    "# print('size'+str(R))\n",
    "# f='size%s.csv'%str(R)\n",
    "# from tqdm import tqdm\n",
    "# for i in range(-10,11):\n",
    "#     filename ='data/lamb%s'%str(i/10)+f\n",
    "#     if not os.path.exists(filename):\n",
    "#         header = ['Magnetization', 'Energy', 'SpecificHeat', 'Suceptibility']\n",
    "#         with open(filename, 'w', newline=\"\") as file:\n",
    "#             csvwriter = csv.writer(file) # 2. create a csvwriter object\n",
    "#             csvwriter.writerow(header)\n",
    "#     for j in tqdm(range(1)):\n",
    "#         realization(R,i/10)"
   ]
  },
  {
   "cell_type": "code",
   "execution_count": 16,
   "id": "640a2d71-5ae8-4ce8-a17b-202810d681e6",
   "metadata": {},
   "outputs": [],
   "source": [
    "def real_size(R):\n",
    "    print('size'+str(R))\n",
    "    f='size%s.csv'%str(R)\n",
    "    from tqdm import tqdm\n",
    "    for i in range(-10,11):\n",
    "        filename ='data/lamb%s'%str(i/10)+f\n",
    "        if not os.path.exists(filename):\n",
    "            header = ['Magnetization', 'Energy', 'SpecificHeat', 'Suceptibility']\n",
    "            with open(filename, 'w', newline=\"\") as file:\n",
    "                csvwriter = csv.writer(file) # 2. create a csvwriter object\n",
    "                csvwriter.writerow(header)\n",
    "        for j in tqdm(range(1)):\n",
    "            realization(R,i/10)\n"
   ]
  },
  {
   "cell_type": "code",
   "execution_count": 17,
   "id": "1f31a682-b3ae-4c31-86ae-fa70e34a071f",
   "metadata": {},
   "outputs": [
    {
     "name": "stdout",
     "output_type": "stream",
     "text": [
      "size8\n"
     ]
    },
    {
     "name": "stderr",
     "output_type": "stream",
     "text": [
      "100%|█████████████████████████████████████████████| 1/1 [00:19<00:00, 19.63s/it]\n",
      "100%|█████████████████████████████████████████████| 1/1 [00:20<00:00, 20.31s/it]\n",
      "100%|█████████████████████████████████████████████| 1/1 [00:22<00:00, 22.17s/it]\n",
      "100%|█████████████████████████████████████████████| 1/1 [00:22<00:00, 22.65s/it]\n",
      "100%|█████████████████████████████████████████████| 1/1 [00:22<00:00, 22.16s/it]\n",
      "100%|█████████████████████████████████████████████| 1/1 [00:22<00:00, 22.40s/it]\n",
      "100%|█████████████████████████████████████████████| 1/1 [00:22<00:00, 22.44s/it]\n",
      "100%|█████████████████████████████████████████████| 1/1 [00:22<00:00, 22.51s/it]\n",
      "100%|█████████████████████████████████████████████| 1/1 [00:22<00:00, 22.42s/it]\n",
      "100%|█████████████████████████████████████████████| 1/1 [00:22<00:00, 22.49s/it]\n",
      "100%|█████████████████████████████████████████████| 1/1 [00:22<00:00, 22.69s/it]\n",
      "100%|█████████████████████████████████████████████| 1/1 [00:22<00:00, 22.64s/it]\n",
      "100%|█████████████████████████████████████████████| 1/1 [00:22<00:00, 22.47s/it]\n",
      "100%|█████████████████████████████████████████████| 1/1 [00:22<00:00, 22.36s/it]\n",
      "100%|█████████████████████████████████████████████| 1/1 [00:22<00:00, 22.53s/it]\n",
      "100%|█████████████████████████████████████████████| 1/1 [00:22<00:00, 22.44s/it]\n",
      "100%|█████████████████████████████████████████████| 1/1 [00:22<00:00, 22.46s/it]\n",
      "100%|█████████████████████████████████████████████| 1/1 [00:22<00:00, 22.43s/it]\n",
      "100%|█████████████████████████████████████████████| 1/1 [00:22<00:00, 22.50s/it]\n",
      "100%|█████████████████████████████████████████████| 1/1 [00:22<00:00, 22.30s/it]\n",
      "100%|█████████████████████████████████████████████| 1/1 [00:22<00:00, 22.57s/it]\n"
     ]
    }
   ],
   "source": [
    "real_size(8)"
   ]
  },
  {
   "cell_type": "code",
   "execution_count": 41,
   "id": "03b2b08b-95e2-425b-967f-44919564334e",
   "metadata": {},
   "outputs": [],
   "source": [
    "def realization2(size,lamb):\n",
    "    f='diffSize/lamb%s'%str(lamb)\n",
    "    filename = f+'size%s.csv'%str(size)\n",
    "    \n",
    "    global config\n",
    "    global a, L,xL,yL\n",
    "    \n",
    "    a=size\n",
    "    L=a*a\n",
    "    xL,yL=(a,a)\n",
    "    config=np.ones(L)\n",
    "    steps=1000*L\n",
    "    #plt.figure(figsize=(15,15))\n",
    "    # f1=open('lamb%s/Magnetization.txt'%str(lamb),'a')\n",
    "    # f2=open('lamb%s/Energy.txt'%str(lamb),'a')\n",
    "    # f3=open('lamb%s/SpecificHeat.txt'%str(lamb),'a')\n",
    "    # f4=open('lamb%s/Suseptibility.txt'%str(lamb),'a')\n",
    "    \n",
    "    global J\n",
    "    \n",
    "    J=[1-lamb,1+lamb,1-lamb,1+lamb]\n",
    "    t=work()\n",
    "    m=t[:,0]/L\n",
    "    e=t[:,2]/L\n",
    "    c=(t[:,3]-t[:,2]**2)/T**2\n",
    "    x=(t[:,1]-t[:,0]**2)/T\n",
    "\n",
    "    # print(m)\n",
    "    # print(e)\n",
    "    # print(c)\n",
    "    # print(x)\n",
    "    with open(filename, 'a', newline=\"\") as file:\n",
    "        csvwriter = csv.writer(file)\n",
    "        data=np.transpose([m,e,c,x])\n",
    "        csvwriter.writerows(data)\n",
    "    #os.system('spd-say \"Input needed\"')\n",
    "    #a= input()\n",
    "    #if(int(a)==1):\n",
    "    \n",
    "    # f1.write(str(m)+'exit\\n')\n",
    "    # f2.write(str(e)+'exit\\n')\n",
    "    # f3.write(str(c)+'exit\\n')\n",
    "    # f4.write(str(x)+'exit\\n')\n",
    "    # #else:\n",
    "    # #    realization(lamb)\n",
    "    # f1.close()\n",
    "    # f2.close()\n",
    "    # f3.close()\n",
    "    # f4.close()\n",
    "    "
   ]
  },
  {
   "cell_type": "code",
   "execution_count": 42,
   "id": "6711ec64-8131-4e9b-82f9-a844be86804e",
   "metadata": {},
   "outputs": [],
   "source": [
    "def real_lambda(lamb):\n",
    "    for i in size:\n",
    "        print('size'+str(i))\n",
    "        f='size%s.csv'%str(i)\n",
    "        from tqdm import tqdm\n",
    "        filename ='diffSize/lamb%s'%str(lamb)+f\n",
    "        if not os.path.exists(filename):\n",
    "            header = ['Magnetization', 'Energy', 'SpecificHeat', 'Suceptibility']\n",
    "            with open(filename, 'w', newline=\"\") as file:\n",
    "                csvwriter = csv.writer(file) # 2. create a csvwriter object\n",
    "                csvwriter.writerow(header)\n",
    "        for j in tqdm(range(50)):\n",
    "            realization2(i,lamb)\n",
    "        time.sleep(600)"
   ]
  },
  {
   "cell_type": "code",
   "execution_count": 43,
   "id": "4cbf743a-5f6a-4e3e-b2d8-9324826933e9",
   "metadata": {},
   "outputs": [
    {
     "name": "stdout",
     "output_type": "stream",
     "text": [
      "size4\n"
     ]
    },
    {
     "name": "stderr",
     "output_type": "stream",
     "text": [
      "100%|███████████████████████████████████████████| 50/50 [17:21<00:00, 20.83s/it]\n"
     ]
    },
    {
     "name": "stdout",
     "output_type": "stream",
     "text": [
      "size6\n"
     ]
    },
    {
     "name": "stderr",
     "output_type": "stream",
     "text": [
      "100%|███████████████████████████████████████████| 50/50 [17:21<00:00, 20.84s/it]\n"
     ]
    },
    {
     "name": "stdout",
     "output_type": "stream",
     "text": [
      "size8\n"
     ]
    },
    {
     "name": "stderr",
     "output_type": "stream",
     "text": [
      "100%|███████████████████████████████████████████| 50/50 [15:42<00:00, 18.84s/it]\n"
     ]
    },
    {
     "name": "stdout",
     "output_type": "stream",
     "text": [
      "size10\n"
     ]
    },
    {
     "name": "stderr",
     "output_type": "stream",
     "text": [
      "100%|███████████████████████████████████████████| 50/50 [15:40<00:00, 18.82s/it]\n"
     ]
    },
    {
     "name": "stdout",
     "output_type": "stream",
     "text": [
      "size12\n"
     ]
    },
    {
     "name": "stderr",
     "output_type": "stream",
     "text": [
      "100%|███████████████████████████████████████████| 50/50 [16:04<00:00, 19.28s/it]\n"
     ]
    },
    {
     "name": "stdout",
     "output_type": "stream",
     "text": [
      "size14\n"
     ]
    },
    {
     "name": "stderr",
     "output_type": "stream",
     "text": [
      "100%|███████████████████████████████████████████| 50/50 [16:14<00:00, 19.50s/it]\n"
     ]
    },
    {
     "name": "stdout",
     "output_type": "stream",
     "text": [
      "size16\n"
     ]
    },
    {
     "name": "stderr",
     "output_type": "stream",
     "text": [
      "100%|███████████████████████████████████████████| 50/50 [16:30<00:00, 19.81s/it]\n"
     ]
    },
    {
     "name": "stdout",
     "output_type": "stream",
     "text": [
      "size18\n"
     ]
    },
    {
     "name": "stderr",
     "output_type": "stream",
     "text": [
      "100%|███████████████████████████████████████████| 50/50 [17:06<00:00, 20.53s/it]\n"
     ]
    },
    {
     "name": "stdout",
     "output_type": "stream",
     "text": [
      "size20\n"
     ]
    },
    {
     "name": "stderr",
     "output_type": "stream",
     "text": [
      "100%|███████████████████████████████████████████| 50/50 [17:33<00:00, 21.06s/it]\n"
     ]
    }
   ],
   "source": [
    "size=np.array(range(4,21,2))\n",
    "real_lambda(0.0)"
   ]
  },
  {
   "cell_type": "code",
   "execution_count": 16,
   "id": "ff032113-f64d-4646-8076-82dfcbf91caa",
   "metadata": {},
   "outputs": [
    {
     "data": {
      "text/plain": [
       "0"
      ]
     },
     "execution_count": 16,
     "metadata": {},
     "output_type": "execute_result"
    }
   ],
   "source": [
    " \n",
    "duration = 10  # seconds\n",
    "freq = 600  # Hz\n",
    "    \n",
    "os.system('play -nq -t alsa synth {} sine {}'.format(duration, freq))\n",
    "    \n",
    "os.system('spd-say \"Your Program has ended, moron\"')"
   ]
  },
  {
   "cell_type": "code",
   "execution_count": 17,
   "id": "725df093-49fd-4ec7-8d78-f7bbc70c6595",
   "metadata": {},
   "outputs": [],
   "source": [
    "def plotyplot(lamb,R):\n",
    "    f='size%s.csv'%str(R)\n",
    "    data= pd.read_csv(\"data/lamb%s\"%str(lamb)+f)\n",
    "    m=np.array(data.Magnetization)\n",
    "    e=np.array(data.Energy)\n",
    "    c=np.array(data.SpecificHeat)\n",
    "    x=np.array(data.Suceptibility)\n",
    "    M=np.zeros(TT)\n",
    "    E=np.zeros(TT)\n",
    "    C=np.zeros(TT)\n",
    "    X=np.zeros(TT)\n",
    "    R_no=m.size//TT\n",
    "    for i in range(R_no):\n",
    "        M+=m[i*TT:(i+1)*TT]\n",
    "        E+=e[i*TT:(i+1)*TT]\n",
    "        C+=c[i*TT:(i+1)*TT]\n",
    "        X+=x[i*TT:(i+1)*TT]\n",
    "    M=M/R_no\n",
    "    E=E/R_no\n",
    "    C=C/R_no\n",
    "    X=X/R_no\n",
    "    \n",
    "    plt.subplot(2, 2, 1)\n",
    "    #plt.scatter(T,M,label=str(lamb),s=16)\n",
    "    plt.plot(T,M,label=str(lamb))\n",
    "    #plt.xlim([0,5])\n",
    "    plt.subplot(2, 2, 2)\n",
    "    #plt.scatter(T,E,label=str(lamb),s=16)\n",
    "    plt.plot(T,E,label=str(lamb))\n",
    "    plt.subplot(2, 2, 3)\n",
    "    #plt.scatter(T,C,label=str(lamb),s=16)#,marker=\".\")\n",
    "    plt.plot(T,C,label=str(lamb))\n",
    "    plt.subplot(2, 2, 4)\n",
    "    #plt.scatter(T,X,label=str(lamb),s=16)#marker=\".\")\n",
    "    plt.plot(T,X,label=str(lamb))\n",
    "    print(R_no)\n"
   ]
  },
  {
   "cell_type": "code",
   "execution_count": 18,
   "id": "9505cd8c-55d8-4a7e-9d64-3e791025c04c",
   "metadata": {},
   "outputs": [
    {
     "name": "stdout",
     "output_type": "stream",
     "text": [
      "6\n"
     ]
    },
    {
     "data": {
      "image/png": "[encoded data removed]",
      "text/plain": [
       "<Figure size 1500x1500 with 4 Axes>"
      ]
     },
     "metadata": {},
     "output_type": "display_data"
    }
   ],
   "source": [
    "plt.figure(figsize=(15,15))\n",
    "size=8\n",
    "plotyplot(0.0,size)\n",
    "# plotyplot(0.2,size)\n",
    "# plotyplot(0.4,size)\n",
    "# plotyplot(0.6,size)\n",
    "# plotyplot(0.8,size)\n",
    "# plotyplot(1.0,size)\n",
    "\n",
    "plt.legend()\n",
    "plt.show()\n"
   ]
  },
  {
   "cell_type": "code",
   "execution_count": null,
   "id": "2bdc19ca-fe5f-4bae-8de1-95a380f3c42e",
   "metadata": {},
   "outputs": [],
   "source": []
  }
 ],
 "metadata": {
  "kernelspec": {
   "display_name": "Python 3 (ipykernel)",
   "language": "python",
   "name": "python3"
  },
  "language_info": {
   "codemirror_mode": {
    "name": "ipython",
    "version": 3
   },
   "file_extension": ".py",
   "mimetype": "text/x-python",
   "name": "python",
   "nbconvert_exporter": "python",
   "pygments_lexer": "ipython3",
   "version": "3.11.5"
  }
 },
 "nbformat": 4,
 "nbformat_minor": 5
}
